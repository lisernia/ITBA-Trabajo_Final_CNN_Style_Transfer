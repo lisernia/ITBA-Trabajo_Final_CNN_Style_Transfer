{
  "nbformat": 4,
  "nbformat_minor": 0,
  "metadata": {
    "accelerator": "GPU",
    "colab": {
      "name": "Trabajo_Final_CNN_Style_Transfer_15_06_2020.ipynb",
      "provenance": [],
      "toc_visible": true,
      "include_colab_link": true
    },
    "kernelspec": {
      "display_name": "Python 3",
      "language": "python",
      "name": "python3"
    },
    "language_info": {
      "codemirror_mode": {
        "name": "ipython",
        "version": 3
      },
      "file_extension": ".py",
      "mimetype": "text/x-python",
      "name": "python",
      "nbconvert_exporter": "python",
      "pygments_lexer": "ipython3",
      "version": "3.7.7"
    }
  },
  "cells": [
    {
      "cell_type": "markdown",
      "metadata": {
        "id": "view-in-github",
        "colab_type": "text"
      },
      "source": [
        "<a href=\"https://colab.research.google.com/github/lisernia/ITBA-Trabajo_Final_CNN_Style_Transfer/blob/master/Trabajo_Final_CNN_Style_Transfer_15_06_2020.ipynb\" target=\"_parent\"><img src=\"https://colab.research.google.com/assets/colab-badge.svg\" alt=\"Open In Colab\"/></a>"
      ]
    },
    {
      "cell_type": "markdown",
      "metadata": {
        "colab_type": "text",
        "id": "qCY6UbkkI9_N"
      },
      "source": [
        "# Style Transfer\n",
        "\n",
        "<img src=\"https://i0.wp.com/chelseatroy.com/wp-content/uploads/2018/12/neural_style_transfer.png?resize=768%2C311&ssl=1\">\n",
        "\n",
        "La idea de este trabajo final es reproducir el siguiente paper:\n",
        "\n",
        "https://arxiv.org/pdf/1508.06576.pdf\n",
        "\n",
        "El objetivo es transferir el estilo de una imagen dada a otra imagen distinta. \n",
        "\n",
        "Como hemos visto en clase, las primeras capas de una red convolucional se activan ante la presencia de ciertos patrones vinculados a detalles muy pequeños.\n",
        "\n",
        "A medida que avanzamos en las distintas capas de una red neuronal convolucional, los filtros se van activando a medida que detectan patrones de formas cada vez mas complejos.\n",
        "\n",
        "Lo que propone este paper es asignarle a la activación de las primeras capas de una red neuronal convolucional (por ejemplo VGG19) la definición del estilo y a la activación de las últimas capas de la red neuronal convolucional, la definición del contenido.\n",
        "\n",
        "La idea de este paper es, a partir de dos imágenes (una que aporte el estilo y otra que aporte el contenido) analizar cómo es la activación de las primeras capas para la imagen que aporta el estilo y cómo es la activación de las últimas capas de la red convolucional para la imagen que aporta el contenido. A partir de esto se intentará sintetizar una imagen que active los filtros de las primeras capas que se activaron con la imagen que aporta el estilo y los filtros de las últimas capas que se activaron con la imagen que aporta el contenido.\n",
        "\n",
        "A este procedimiento se lo denomina neural style transfer.\n",
        "\n",
        "# En este trabajo se deberá leer el paper mencionado y en base a ello, entender la implementación que se muestra a continuación y contestar preguntas sobre la misma.\n",
        "\n",
        "# Una metodología posible es hacer una lectura rápida del paper (aunque esto signifique no entender algunos detalles del mismo) y luego ir analizando el código y respondiendo las preguntas. A medida que se planteen las preguntas, volviendo a leer secciones específicas del paper terminará de entender los detalles que pudieran haber quedado pendientes.\n",
        "\n",
        "Lo primero que haremos es cargar dos imágenes, una que aporte el estilo y otra que aporte el contenido. A tal fin utilizaremos imágenes disponibles en la web."
      ]
    },
    {
      "cell_type": "code",
      "metadata": {
        "colab_type": "code",
        "id": "kyHsa2t0SxZi",
        "outputId": "e72fcf52-62ed-42f1-f64e-cdb05d049797",
        "colab": {
          "base_uri": "https://localhost:8080/",
          "height": 437
        }
      },
      "source": [
        "# Imagen para estilo\n",
        "!wget https://upload.wikimedia.org/wikipedia/commons/5/52/La_noche_estrellada1.jpg\n",
        "\n",
        "# Imagen para contenido\n",
        "!wget https://upload.wikimedia.org/wikipedia/commons/thumb/f/f4/Neckarfront_T%C3%BCbingen_Mai_2017.jpg/775px-Neckarfront_T%C3%BCbingen_Mai_2017.jpg\n",
        "\n",
        "# Creamos el directorio para los archivos de salida\n",
        "!mkdir /content/output"
      ],
      "execution_count": 0,
      "outputs": [
        {
          "output_type": "stream",
          "text": [
            "\"wget\" no se reconoce como un comando interno o externo,\n",
            "programa o archivo por lotes ejecutable.\n",
            "\"wget\" no se reconoce como un comando interno o externo,\n",
            "programa o archivo por lotes ejecutable.\n",
            "La sintaxis del comando no es correcta.\n"
          ],
          "name": "stderr"
        }
      ]
    },
    {
      "cell_type": "code",
      "metadata": {
        "colab_type": "code",
        "id": "NIxH20o2eFoc",
        "colab": {}
      },
      "source": [
        "from keras.preprocessing.image import load_img, save_img, img_to_array\n",
        "import numpy as np\n",
        "from scipy.optimize import fmin_l_bfgs_b\n",
        "import time\n",
        "import argparse\n",
        "\n",
        "from keras.applications import vgg19\n",
        "from keras import backend as K\n",
        "from pathlib import Path"
      ],
      "execution_count": 0,
      "outputs": []
    },
    {
      "cell_type": "code",
      "metadata": {
        "colab_type": "code",
        "id": "iLkV1bnFl_tK",
        "colab": {},
        "outputId": "0ae7b0a5-2d4e-4732-abc7-825f385a5722"
      },
      "source": [
        "# Definimos las imagenes que vamos a utilizar, y el directorio de salida\n",
        "\n",
        "base_image_path = Path(\"C:/Users/Damian/Pictures/cabaña.jpg\")\n",
        "style_reference_image_path = Path(\"C:/Users/Damian/Pictures/picasso-picasso-cusica-plus.jpg\")\n",
        "result_prefix = Path(\"C:/Users/Damian/Pictures/output\")\n",
        "iterations = 100\n",
        "\n",
        "base_image_path\n",
        "\n",
        "\n",
        "\n"
      ],
      "execution_count": 0,
      "outputs": [
        {
          "output_type": "execute_result",
          "data": {
            "text/plain": [
              "WindowsPath('C:/Users/Damian/Pictures/cabaña.jpg')"
            ]
          },
          "metadata": {
            "tags": []
          },
          "execution_count": 352
        }
      ]
    },
    {
      "cell_type": "code",
      "metadata": {
        "id": "IdyK7GtjLbBD",
        "colab_type": "code",
        "colab": {},
        "outputId": "ce35d0d9-aa46-4901-ac3f-4fbb3f3f1fdf"
      },
      "source": [
        "import tensorflow as tf\n",
        "tf.test.is_gpu_available(cuda_only=True) "
      ],
      "execution_count": 0,
      "outputs": [
        {
          "output_type": "execute_result",
          "data": {
            "text/plain": [
              "True"
            ]
          },
          "metadata": {
            "tags": []
          },
          "execution_count": 353
        }
      ]
    },
    {
      "cell_type": "markdown",
      "metadata": {
        "colab_type": "text",
        "id": "Gz2PeGfpeYzj"
      },
      "source": [
        "# 1) En base a lo visto en el paper ¿Qué significan los parámetros definidos en la siguiente celda?\n",
        "\n",
        "Respuesta:\n",
        "total_variation_weight:\n",
        "Es el peso que se le da para total variation loss, la cual mira la coherencia visual de la imagen midiendo la continuidad espacial entre los píxeles de la imagen creada entre la imagen de estilo y contenido.\n",
        "\n",
        " \n",
        "style_weight:\n",
        "Es el peso para la style loss, la loss aprovecha múltiples capas convolucionales en el CNN (en lugar de uno) para extraer patrones significativos y representaciones capturando información pertinente a apariencia o estilo de la imagen de estilo de referencia en todas las escalas espaciales, independientemente del contenido de la imagen.\n",
        "\n",
        "\n",
        "\n",
        " \n",
        "content_weight = El peso para contect loss.\n",
        "Podemos definir la loss como la diferencia entre las  características de la imagen base y las características de la imagen combinada, manteniendo la imagen generada lo suficientemente cerca de la original.\n",
        "\n",
        "\n",
        "\n",
        "\n",
        "\n",
        "\n",
        "\n"
      ]
    },
    {
      "cell_type": "code",
      "metadata": {
        "colab_type": "code",
        "id": "P9Dt3aaEmJWS",
        "colab": {}
      },
      "source": [
        "total_variation_weight = 0.1\n",
        "style_weight = 10\n",
        "content_weight = 1"
      ],
      "execution_count": 0,
      "outputs": []
    },
    {
      "cell_type": "code",
      "metadata": {
        "colab_type": "code",
        "id": "CQQJOhCVuse6",
        "colab": {},
        "outputId": "43730b67-e4f1-4100-ee62-c22cd7ee3dab"
      },
      "source": [
        "# Definimos el tamaño de las imágenes a utilizar\n",
        "width, height = load_img(base_image_path).size\n",
        "img_nrows = 400\n",
        "img_ncols = int(width * img_nrows / height)\n",
        "img_ncols"
      ],
      "execution_count": 0,
      "outputs": [
        {
          "output_type": "execute_result",
          "data": {
            "text/plain": [
              "300"
            ]
          },
          "metadata": {
            "tags": []
          },
          "execution_count": 355
        }
      ]
    },
    {
      "cell_type": "markdown",
      "metadata": {
        "colab_type": "text",
        "id": "gg2ct-8agm1E"
      },
      "source": [
        "# 2) Explicar qué hace la siguiente celda. En especial las últimas dos líneas de la función antes del return. ¿Por qué?\n",
        "\n",
        "Ayuda: https://keras.io/applications/\n",
        "\n",
        "Respuesta:\n",
        "\n",
        "Load_img> Carga la imagen como una imagen a un objeto de la libreria de python con el formato que se guardo en el path y canales RGB con el parametro target_size le cambia el tamaño de acuerdo a los valores en  img_nrows y img_ncols.\n",
        "\n",
        "img_to_array> se usa para  convertir una imagen cargada en formato PIL en un array NumPy.  \n",
        "\n",
        "expand_dims> agrega una dimensión mas que indica la cantidad de imágenes a procesar.\n",
        "\n",
        "preprocess_input> Se necesita preprocesar la imagen de entrada ya que este modelo espera algo ligeramente diferente a la imagen de entrada,  esta funcion extrae de los canales la media cuyos valores son 103.939, 116.779, and 123.68 los cuales  vienen del análisis de ImageNet, por lo tanto la media de los canales es cero  y cambia   de RGB a BGR en este formarto los canales de color estan ordenados como azul, verde y rojo que es el estandar para la libreria OpenCv. \n"
      ]
    },
    {
      "cell_type": "code",
      "metadata": {
        "colab_type": "code",
        "id": "tAkljg4zuzYd",
        "colab": {}
      },
      "source": [
        "def preprocess_image(image_path):\n",
        "    img = load_img(image_path, target_size=(img_nrows, img_ncols))\n",
        "    img = img_to_array(img)\n",
        "    img = np.expand_dims(img, axis=0)\n",
        "    img = vgg19.preprocess_input(img)\n",
        "    return img\n",
        "\n",
        "\n"
      ],
      "execution_count": 0,
      "outputs": []
    },
    {
      "cell_type": "markdown",
      "metadata": {
        "colab_type": "text",
        "id": "KTf0YDSagt10"
      },
      "source": [
        "# 3) Habiendo comprendido lo que hace la celda anterior, explique de manera muy concisa qué hace la siguiente celda. ¿Qué relación tiene con la celda anterior?\n",
        "\n",
        "Respuesta:\n",
        "\n",
        "Basicamente es el proceso inverso al metodo preprocess, por lo que tenemos que devolver los valores de la media en este proceso y luego convertir de BGR a RGB. Tenemos que estar seguros que nuestros valores no tienen signo y son de 8 bit enteros cuyos valores están entre 0 - 255 esto se logra con la función np.clip()  \n",
        "\n",
        " \n",
        "  \n"
      ]
    },
    {
      "cell_type": "code",
      "metadata": {
        "colab_type": "code",
        "id": "y5LaTrsAu14z",
        "colab": {}
      },
      "source": [
        "def deprocess_image(x):\n",
        "    x = x.reshape((img_nrows, img_ncols, 3))\n",
        "    # Remove zero-center by mean pixel\n",
        "    x[:, :, 0] += 103.939\n",
        "    x[:, :, 1] += 116.779\n",
        "    x[:, :, 2] += 123.68\n",
        "    # 'BGR'->'RGB'\n",
        "    x = x[:, :, ::-1]\n",
        "    x = np.clip(x, 0, 255).astype('uint8')\n",
        "    return x"
      ],
      "execution_count": 0,
      "outputs": []
    },
    {
      "cell_type": "code",
      "metadata": {
        "colab_type": "code",
        "id": "HYNio09mu4S3",
        "colab": {}
      },
      "source": [
        "# get tensor representations of our images\n",
        "# K.variable convierte un numpy array en un tensor, para \n",
        "base_image_path\n",
        "base_image = K.variable(preprocess_image(base_image_path))\n",
        "style_reference_image = K.variable(preprocess_image(style_reference_image_path))"
      ],
      "execution_count": 0,
      "outputs": []
    },
    {
      "cell_type": "code",
      "metadata": {
        "colab_type": "code",
        "id": "a1Lbw02Uu--o",
        "colab": {}
      },
      "source": [
        "combination_image = K.placeholder((1, img_nrows, img_ncols, 3))"
      ],
      "execution_count": 0,
      "outputs": []
    },
    {
      "cell_type": "markdown",
      "metadata": {
        "colab_type": "text",
        "id": "RJEi0YI3Uzrm"
      },
      "source": [
        "Aclaración:\n",
        "\n",
        "La siguiente celda sirve para procesar las tres imagenes (contenido, estilo y salida) en un solo batch."
      ]
    },
    {
      "cell_type": "code",
      "metadata": {
        "colab_type": "code",
        "id": "gGO_jGFfvEbF",
        "colab": {}
      },
      "source": [
        "# combine the 3 images into a single Keras tensor\n",
        "input_tensor = K.concatenate([base_image,\n",
        "                              style_reference_image,\n",
        "                              combination_image], axis=0)"
      ],
      "execution_count": 0,
      "outputs": []
    },
    {
      "cell_type": "code",
      "metadata": {
        "colab_type": "code",
        "id": "tdG59VRavHGB",
        "outputId": "a133befb-68d1-4c51-99e6-417c1103f726",
        "colab": {
          "base_uri": "https://localhost:8080/",
          "height": 419
        }
      },
      "source": [
        "# build the VGG19 network with our 3 images as input\n",
        "# the model will be loaded with pre-trained ImageNet weights\n",
        "model = vgg19.VGG19(input_tensor=input_tensor,\n",
        "                    weights='imagenet', include_top=False)\n",
        "print('Model loaded.')\n",
        "\n",
        "# get the symbolic outputs of each \"key\" layer (we gave them unique names).\n",
        "outputs_dict = dict([(layer.name, layer.output) for layer in model.layers])"
      ],
      "execution_count": 0,
      "outputs": [
        {
          "output_type": "stream",
          "text": [
            "Model loaded.\n"
          ],
          "name": "stdout"
        }
      ]
    },
    {
      "cell_type": "markdown",
      "metadata": {
        "colab_type": "text",
        "id": "70-vs_jZkKVc"
      },
      "source": [
        "# 4) En la siguientes celdas:\n",
        "\n",
        "- ¿Qué es la matriz de Gram?¿Para qué se usa?\n",
        "\n",
        " \n",
        "La matriz de gram captura el estilo the los mapas de caracteristicas de la imagen de estilo de referencia y la generada.\n",
        "Se utiliza para calcular la loss de estilo. Compara la matriz de gram de la imagen de entrada y la generada usando MSE. La representación del estilo computa la correlación entre diferentes filtros.  es el producto de puntos de la matriz de estilo con su transpuesta dividido por  la cantidad de elementos.\n",
        "Para poder extraer el estilo de una imagen.  En lugar de usar la activación directamente, transformaremos esas activaciones en matrices de gram,  La razón por la que hacemos eso es porque las matrices de gram  capturan el estilo mejor que las activaciones directamente.\n",
        "Podemos  capturar  el estilo de una imagen podemos obtener la representación mirando la correlación de los valores entre las activaciones o las características.\n",
        "Por razones de performance las operaciones en una red neuronal se realizan con matrices, por lo que la correlación es una matriz que se llama gram matrix  o matriz de estilo.\n",
        "\n",
        "- ¿Por qué se permutan las dimensiones de x?\n",
        "\n",
        "Para poder multiplicar la matriz.  Multiplicamos la matriz por su transpuesta para convertir las filas en columnas.\n",
        " \n"
      ]
    },
    {
      "cell_type": "code",
      "metadata": {
        "colab_type": "code",
        "id": "K1FODPATvJ1k",
        "colab": {}
      },
      "source": [
        "def gram_matrix(x):\n",
        "    features = K.batch_flatten(K.permute_dimensions(x, (2, 0, 1)))\n",
        "    gram = K.dot(features, K.transpose(features))\n",
        "    return gram"
      ],
      "execution_count": 0,
      "outputs": []
    },
    {
      "cell_type": "markdown",
      "metadata": {
        "colab_type": "text",
        "id": "vBQkKFY0Rbx-"
      },
      "source": [
        "# 5) Losses:\n",
        "\n",
        "Explicar qué mide cada una de las losses en las siguientes tres celdas.\n",
        "\n",
        "Rta:\n",
        "style_loss:\n",
        "\n",
        "La Loss  se define como la diferencia de correlación presente entre los mapas de características calculados por la imagen generada y la imagen de estilo.  \n",
        "El objetivo es calcular una matriz de estilo  para la imagen generada y la imagen de estilo. Luego, la loss de estilo se define como la diferencia cuadrática media entre las dos matrices de estilo. La matriz de Gram esencialmente captura la \"distribución de características\" de un conjunto de mapas de características en una capa dada. Al tratar de minimizar la loss de estilo entre dos imágenes, básicamente está haciendo coincidir la distribución de características entre las dos imágenes.\n",
        "\n",
        "content_loss:\n",
        "Combination: La representación de las características en la capa para la imagen generada.\n",
        "Base: representación de las características en la en la capa para la  imagen original.\n",
        "La loss mide la distancia entre estas características imagen generada y base. Tratando de dejar la imagen generada cerca de la original.\n",
        "\n",
        "total_variation_loss:\n",
        "Mide la coherencia de la imagen viendo la continuidad de los pixeles de las imágenes combinadas.\n",
        "\n"
      ]
    },
    {
      "cell_type": "code",
      "metadata": {
        "colab_type": "code",
        "id": "1-Gt0ahWvN6q",
        "colab": {}
      },
      "source": [
        "def style_loss(style, combination):\n",
        "    assert K.ndim(style) == 3\n",
        "    assert K.ndim(combination) == 3\n",
        "    S = gram_matrix(style)\n",
        "    C = gram_matrix(combination)\n",
        "    channels = 3\n",
        "    size = img_nrows * img_ncols\n",
        "    return K.sum(K.square(S - C)) / (4.0 * (channels ** 2) * (size ** 2))"
      ],
      "execution_count": 0,
      "outputs": []
    },
    {
      "cell_type": "code",
      "metadata": {
        "colab_type": "code",
        "id": "XCqnju5RvQCo",
        "colab": {}
      },
      "source": [
        "def content_loss(base, combination):\n",
        "    return K.sum(K.square(combination - base))\n"
      ],
      "execution_count": 0,
      "outputs": []
    },
    {
      "cell_type": "code",
      "metadata": {
        "colab_type": "code",
        "id": "udEp5h31vRnY",
        "colab": {}
      },
      "source": [
        "def total_variation_loss(x):\n",
        "    assert K.ndim(x) == 4\n",
        "    a = K.square(\n",
        "        x[:, :img_nrows - 1, :img_ncols - 1, :] - x[:, 1:, :img_ncols - 1, :])\n",
        "    b = K.square(\n",
        "        x[:, :img_nrows - 1, :img_ncols - 1, :] - x[:, :img_nrows - 1, 1:, :])\n",
        "    return K.sum(K.pow(a + b, 1.25))\n"
      ],
      "execution_count": 0,
      "outputs": []
    },
    {
      "cell_type": "code",
      "metadata": {
        "colab_type": "code",
        "id": "-65vcinbvTZ0",
        "colab": {}
      },
      "source": [
        "# Armamos la loss total\n",
        "loss = K.variable(0.0)\n",
        "layer_features = outputs_dict['block5_conv2']\n",
        "base_image_features = layer_features[0, :, :, :]\n",
        "combination_features = layer_features[2, :, :, :]\n",
        "loss = loss + content_weight * content_loss(base_image_features,\n",
        "                                            combination_features)\n",
        "\n",
        "feature_layers = ['block1_conv1', 'block2_conv1',\n",
        "                  'block3_conv1', 'block4_conv1',\n",
        "                  'block5_conv1']\n",
        "for layer_name in feature_layers:\n",
        "    layer_features = outputs_dict[layer_name]\n",
        "    style_reference_features = layer_features[1, :, :, :] \n",
        "    combination_features = layer_features[2, :, :, :]\n",
        "    sl = style_loss(style_reference_features, combination_features)\n",
        "    loss = loss + (style_weight / len(feature_layers)) * sl\n",
        "loss = loss + total_variation_weight * total_variation_loss(combination_image)"
      ],
      "execution_count": 0,
      "outputs": []
    },
    {
      "cell_type": "code",
      "metadata": {
        "colab_type": "code",
        "id": "pbz4n1OhvV2K",
        "colab": {}
      },
      "source": [
        "grads = K.gradients(loss, combination_image)\n",
        "\n",
        "outputs = [loss]\n",
        "if isinstance(grads, (list, tuple)):\n",
        "    outputs += grads\n",
        "else:\n",
        "    outputs.append(grads)\n",
        "\n",
        "f_outputs = K.function([combination_image], outputs)"
      ],
      "execution_count": 0,
      "outputs": []
    },
    {
      "cell_type": "markdown",
      "metadata": {
        "colab_type": "text",
        "id": "1JbydbOaVcvU"
      },
      "source": [
        "# 6) Explique el propósito de las siguientes tres celdas. ¿Qué hace la función fmin_l_bfgs_b? ¿En qué se diferencia con la implementación del paper? ¿Se puede utilizar alguna alternativa?\n",
        "\n",
        "Respuesta:\n",
        "\n",
        "\n",
        "Fmin_l_bfgs_b es una función que se usa para optimizar la loss, la cual solo se puede aplicar para vectores de una dimensión y la función de loss y gradiente se deben pasar en dos funciones separadas, por eso se construye la clase Evaluator para calcular los valores del el gradiente y la loss en una pasada ya que calcularlas de forma separada sería ineficiente. \n",
        "La tercer celda muestra cómo se evalúan la loss y el gradiente en cada iteración en este caso 100, se puede ver en cada una la imagen generada y cómo va transformando el estilo en cada ejecución.\n",
        "\n",
        "La diferencia es que en el paper usa para optimizar la loss el gradient descent  con back-propagation y en la note usan esa funcion fmin_l_bfgs_b\n",
        "El optimizador bfgs tiene una limitación que es que la función solo se puede aplicar a vectores de una dimensión las imágenes son de 3 dimensiones, se realiza una clase Evaluator basada en patrones ya  que la los valores para la función loss y el gradiente se deben pasar de forma separada.\n",
        "\n",
        "Se podría utilizar ADAM , pero el  algoritmo L-BFGS (un algoritmo cuasi-Newton que es significativamente más rápido para converger que el  Gradient descent)  a diferencia de un clasificador, en este caso, el optimizador no recibe varias muestras diferentes y trata de generalizar  todas. En la transferencia de estilo, el optimizador recibe la misma imagen varias veces. Además, l-bfgs determina la dirección ideal y la distancia a cubrir haciendo una búsqueda de línea. En problemas estocásticos, como clasificaciones y regresiones, es un enfoque computacional costoso, sin embargo, es un buen enfoque para la transferencia de estilos. De esta manera, l-bfgs aprende más rápido que Adam en el problema en cuestión.\n",
        "\n"
      ]
    },
    {
      "cell_type": "code",
      "metadata": {
        "colab_type": "code",
        "id": "zVE1_qemvZeN",
        "colab": {}
      },
      "source": [
        "def eval_loss_and_grads(x):\n",
        "    x = x.reshape((1, img_nrows, img_ncols, 3))\n",
        "    outs = f_outputs([x])\n",
        "    loss_value = outs[0]\n",
        "    if len(outs[1:]) == 1:\n",
        "        grad_values = outs[1].flatten().astype('float64')\n",
        "    else:\n",
        "        grad_values = np.array(outs[1:]).flatten().astype('float64')\n",
        "    return loss_value, grad_values\n",
        "\n",
        "# this Evaluator class makes it possible\n",
        "# to compute loss and gradients in one pass\n",
        "# while retrieving them via two separate functions,\n",
        "# \"loss\" and \"grads\". This is done because scipy.optimize\n",
        "# requires separate functions for loss and gradients,\n",
        "# but computing them separately would be inefficient."
      ],
      "execution_count": 0,
      "outputs": []
    },
    {
      "cell_type": "code",
      "metadata": {
        "colab_type": "code",
        "id": "Qbl9roIgvdb1",
        "colab": {}
      },
      "source": [
        "class Evaluator(object):\n",
        "\n",
        "    def __init__(self):\n",
        "        self.loss_value = None\n",
        "        self.grads_values = None\n",
        "\n",
        "    def loss(self, x):\n",
        "        assert self.loss_value is None\n",
        "        loss_value, grad_values = eval_loss_and_grads(x)\n",
        "        self.loss_value = loss_value\n",
        "        self.grad_values = grad_values\n",
        "        return self.loss_value\n",
        "\n",
        "    def grads(self, x):\n",
        "        assert self.loss_value is not None\n",
        "        grad_values = np.copy(self.grad_values)\n",
        "        self.loss_value = None\n",
        "        self.grad_values = None\n",
        "        return grad_values"
      ],
      "execution_count": 0,
      "outputs": []
    },
    {
      "cell_type": "markdown",
      "metadata": {
        "colab_type": "text",
        "id": "Sb0yOEl-WOE6"
      },
      "source": [
        "# 7) Ejecute la siguiente celda y observe las imágenes de salida en cada iteración."
      ]
    },
    {
      "cell_type": "code",
      "metadata": {
        "colab_type": "code",
        "id": "n31YBwCVvhAI",
        "outputId": "4c1bf03c-9d66-48ea-93f2-4489fc20beaa",
        "colab": {
          "base_uri": "https://localhost:8080/",
          "height": 1000
        }
      },
      "source": [
        "evaluator = Evaluator()\n",
        "\n",
        "# run scipy-based optimization (L-BFGS) over the pixels of the generated image\n",
        "# so as to minimize the neural style loss\n",
        "x = preprocess_image(base_image_path)\n",
        "\n",
        "for i in range(iterations):\n",
        "    print('Start of iteration', i)\n",
        "    start_time = time.time()\n",
        "    x, min_val, info = fmin_l_bfgs_b(evaluator.loss, x.flatten(),\n",
        "                                     fprime=evaluator.grads, maxfun=20)\n",
        "    print('Current loss value:', min_val)\n",
        "    # save current generated image\n",
        "    img = deprocess_image(x.copy())\n",
        "    fname = result_prefix / ('output_at_iteration_%d.png' % i)\n",
        "    save_img(fname, img)\n",
        "    end_time = time.time()\n",
        "    print('Image saved as', fname)\n",
        "    print('Iteration %d completed in %ds' % (i, end_time - start_time))"
      ],
      "execution_count": 0,
      "outputs": [
        {
          "output_type": "stream",
          "text": [
            "Start of iteration 0\n",
            "Current loss value: 221887730000.0\n",
            "Image saved as C:\\Users\\Damian\\Pictures\\output\\output_at_iteration_0.png\n",
            "Iteration 0 completed in 2s\n",
            "Start of iteration 1\n",
            "Current loss value: 89240490000.0\n",
            "Image saved as C:\\Users\\Damian\\Pictures\\output\\output_at_iteration_1.png\n",
            "Iteration 1 completed in 2s\n",
            "Start of iteration 2\n",
            "Current loss value: 54349824000.0\n",
            "Image saved as C:\\Users\\Damian\\Pictures\\output\\output_at_iteration_2.png\n",
            "Iteration 2 completed in 2s\n",
            "Start of iteration 3\n",
            "Current loss value: 39850164000.0\n",
            "Image saved as C:\\Users\\Damian\\Pictures\\output\\output_at_iteration_3.png\n",
            "Iteration 3 completed in 2s\n",
            "Start of iteration 4\n",
            "Current loss value: 32210401000.0\n",
            "Image saved as C:\\Users\\Damian\\Pictures\\output\\output_at_iteration_4.png\n",
            "Iteration 4 completed in 2s\n",
            "Start of iteration 5\n",
            "Current loss value: 26483534000.0\n",
            "Image saved as C:\\Users\\Damian\\Pictures\\output\\output_at_iteration_5.png\n",
            "Iteration 5 completed in 2s\n",
            "Start of iteration 6\n",
            "Current loss value: 23235453000.0\n",
            "Image saved as C:\\Users\\Damian\\Pictures\\output\\output_at_iteration_6.png\n",
            "Iteration 6 completed in 2s\n",
            "Start of iteration 7\n",
            "Current loss value: 20172440000.0\n",
            "Image saved as C:\\Users\\Damian\\Pictures\\output\\output_at_iteration_7.png\n",
            "Iteration 7 completed in 2s\n",
            "Start of iteration 8\n",
            "Current loss value: 18158520000.0\n",
            "Image saved as C:\\Users\\Damian\\Pictures\\output\\output_at_iteration_8.png\n",
            "Iteration 8 completed in 2s\n",
            "Start of iteration 9\n",
            "Current loss value: 16882158000.0\n",
            "Image saved as C:\\Users\\Damian\\Pictures\\output\\output_at_iteration_9.png\n",
            "Iteration 9 completed in 2s\n",
            "Start of iteration 10\n",
            "Current loss value: 15258658000.0\n",
            "Image saved as C:\\Users\\Damian\\Pictures\\output\\output_at_iteration_10.png\n",
            "Iteration 10 completed in 2s\n",
            "Start of iteration 11\n",
            "Current loss value: 14224651000.0\n",
            "Image saved as C:\\Users\\Damian\\Pictures\\output\\output_at_iteration_11.png\n",
            "Iteration 11 completed in 2s\n",
            "Start of iteration 12\n",
            "Current loss value: 13237829000.0\n",
            "Image saved as C:\\Users\\Damian\\Pictures\\output\\output_at_iteration_12.png\n",
            "Iteration 12 completed in 2s\n",
            "Start of iteration 13\n",
            "Current loss value: 12420147000.0\n",
            "Image saved as C:\\Users\\Damian\\Pictures\\output\\output_at_iteration_13.png\n",
            "Iteration 13 completed in 2s\n",
            "Start of iteration 14\n",
            "Current loss value: 11806660000.0\n",
            "Image saved as C:\\Users\\Damian\\Pictures\\output\\output_at_iteration_14.png\n",
            "Iteration 14 completed in 2s\n",
            "Start of iteration 15\n",
            "Current loss value: 11263082000.0\n",
            "Image saved as C:\\Users\\Damian\\Pictures\\output\\output_at_iteration_15.png\n",
            "Iteration 15 completed in 2s\n",
            "Start of iteration 16\n",
            "Current loss value: 10892840000.0\n",
            "Image saved as C:\\Users\\Damian\\Pictures\\output\\output_at_iteration_16.png\n",
            "Iteration 16 completed in 2s\n",
            "Start of iteration 17\n",
            "Current loss value: 10545115000.0\n",
            "Image saved as C:\\Users\\Damian\\Pictures\\output\\output_at_iteration_17.png\n",
            "Iteration 17 completed in 2s\n",
            "Start of iteration 18\n",
            "Current loss value: 10240106000.0\n",
            "Image saved as C:\\Users\\Damian\\Pictures\\output\\output_at_iteration_18.png\n",
            "Iteration 18 completed in 2s\n",
            "Start of iteration 19\n",
            "Current loss value: 9933570000.0\n",
            "Image saved as C:\\Users\\Damian\\Pictures\\output\\output_at_iteration_19.png\n",
            "Iteration 19 completed in 2s\n",
            "Start of iteration 20\n",
            "Current loss value: 9659691000.0\n",
            "Image saved as C:\\Users\\Damian\\Pictures\\output\\output_at_iteration_20.png\n",
            "Iteration 20 completed in 2s\n",
            "Start of iteration 21\n",
            "Current loss value: 9406247000.0\n",
            "Image saved as C:\\Users\\Damian\\Pictures\\output\\output_at_iteration_21.png\n",
            "Iteration 21 completed in 2s\n",
            "Start of iteration 22\n",
            "Current loss value: 9184326000.0\n",
            "Image saved as C:\\Users\\Damian\\Pictures\\output\\output_at_iteration_22.png\n",
            "Iteration 22 completed in 2s\n",
            "Start of iteration 23\n",
            "Current loss value: 8945503000.0\n",
            "Image saved as C:\\Users\\Damian\\Pictures\\output\\output_at_iteration_23.png\n",
            "Iteration 23 completed in 2s\n",
            "Start of iteration 24\n",
            "Current loss value: 8729770000.0\n",
            "Image saved as C:\\Users\\Damian\\Pictures\\output\\output_at_iteration_24.png\n",
            "Iteration 24 completed in 2s\n",
            "Start of iteration 25\n",
            "Current loss value: 8525729000.0\n",
            "Image saved as C:\\Users\\Damian\\Pictures\\output\\output_at_iteration_25.png\n",
            "Iteration 25 completed in 2s\n",
            "Start of iteration 26\n",
            "Current loss value: 8329736000.0\n",
            "Image saved as C:\\Users\\Damian\\Pictures\\output\\output_at_iteration_26.png\n",
            "Iteration 26 completed in 2s\n",
            "Start of iteration 27\n",
            "Current loss value: 8129316000.0\n",
            "Image saved as C:\\Users\\Damian\\Pictures\\output\\output_at_iteration_27.png\n",
            "Iteration 27 completed in 2s\n",
            "Start of iteration 28\n",
            "Current loss value: 7953548000.0\n",
            "Image saved as C:\\Users\\Damian\\Pictures\\output\\output_at_iteration_28.png\n",
            "Iteration 28 completed in 2s\n",
            "Start of iteration 29\n",
            "Current loss value: 7786038300.0\n",
            "Image saved as C:\\Users\\Damian\\Pictures\\output\\output_at_iteration_29.png\n",
            "Iteration 29 completed in 2s\n",
            "Start of iteration 30\n",
            "Current loss value: 7624631000.0\n",
            "Image saved as C:\\Users\\Damian\\Pictures\\output\\output_at_iteration_30.png\n",
            "Iteration 30 completed in 2s\n",
            "Start of iteration 31\n",
            "Current loss value: 7475591700.0\n",
            "Image saved as C:\\Users\\Damian\\Pictures\\output\\output_at_iteration_31.png\n",
            "Iteration 31 completed in 3s\n",
            "Start of iteration 32\n",
            "Current loss value: 7316583000.0\n",
            "Image saved as C:\\Users\\Damian\\Pictures\\output\\output_at_iteration_32.png\n",
            "Iteration 32 completed in 3s\n",
            "Start of iteration 33\n",
            "Current loss value: 7201643000.0\n",
            "Image saved as C:\\Users\\Damian\\Pictures\\output\\output_at_iteration_33.png\n",
            "Iteration 33 completed in 2s\n",
            "Start of iteration 34\n",
            "Current loss value: 7072462000.0\n",
            "Image saved as C:\\Users\\Damian\\Pictures\\output\\output_at_iteration_34.png\n",
            "Iteration 34 completed in 2s\n",
            "Start of iteration 35\n",
            "Current loss value: 6968071700.0\n",
            "Image saved as C:\\Users\\Damian\\Pictures\\output\\output_at_iteration_35.png\n",
            "Iteration 35 completed in 3s\n",
            "Start of iteration 36\n",
            "Current loss value: 6880853000.0\n",
            "Image saved as C:\\Users\\Damian\\Pictures\\output\\output_at_iteration_36.png\n",
            "Iteration 36 completed in 3s\n",
            "Start of iteration 37\n",
            "Current loss value: 6781316600.0\n",
            "Image saved as C:\\Users\\Damian\\Pictures\\output\\output_at_iteration_37.png\n",
            "Iteration 37 completed in 3s\n",
            "Start of iteration 38\n",
            "Current loss value: 6697928700.0\n",
            "Image saved as C:\\Users\\Damian\\Pictures\\output\\output_at_iteration_38.png\n",
            "Iteration 38 completed in 3s\n",
            "Start of iteration 39\n",
            "Current loss value: 6606741000.0\n",
            "Image saved as C:\\Users\\Damian\\Pictures\\output\\output_at_iteration_39.png\n",
            "Iteration 39 completed in 2s\n",
            "Start of iteration 40\n",
            "Current loss value: 6533879000.0\n",
            "Image saved as C:\\Users\\Damian\\Pictures\\output\\output_at_iteration_40.png\n",
            "Iteration 40 completed in 3s\n",
            "Start of iteration 41\n",
            "Current loss value: 6396219000.0\n",
            "Image saved as C:\\Users\\Damian\\Pictures\\output\\output_at_iteration_41.png\n",
            "Iteration 41 completed in 3s\n",
            "Start of iteration 42\n",
            "Current loss value: 6266357000.0\n",
            "Image saved as C:\\Users\\Damian\\Pictures\\output\\output_at_iteration_42.png\n",
            "Iteration 42 completed in 3s\n",
            "Start of iteration 43\n",
            "Current loss value: 6206878000.0\n",
            "Image saved as C:\\Users\\Damian\\Pictures\\output\\output_at_iteration_43.png\n",
            "Iteration 43 completed in 3s\n",
            "Start of iteration 44\n",
            "Current loss value: 6141728300.0\n",
            "Image saved as C:\\Users\\Damian\\Pictures\\output\\output_at_iteration_44.png\n",
            "Iteration 44 completed in 3s\n",
            "Start of iteration 45\n",
            "Current loss value: 6082471400.0\n",
            "Image saved as C:\\Users\\Damian\\Pictures\\output\\output_at_iteration_45.png\n",
            "Iteration 45 completed in 3s\n",
            "Start of iteration 46\n",
            "Current loss value: 6021912600.0\n",
            "Image saved as C:\\Users\\Damian\\Pictures\\output\\output_at_iteration_46.png\n",
            "Iteration 46 completed in 2s\n",
            "Start of iteration 47\n",
            "Current loss value: 5961974300.0\n",
            "Image saved as C:\\Users\\Damian\\Pictures\\output\\output_at_iteration_47.png\n",
            "Iteration 47 completed in 2s\n",
            "Start of iteration 48\n",
            "Current loss value: 5910406000.0\n",
            "Image saved as C:\\Users\\Damian\\Pictures\\output\\output_at_iteration_48.png\n",
            "Iteration 48 completed in 2s\n",
            "Start of iteration 49\n",
            "Current loss value: 5845965300.0\n",
            "Image saved as C:\\Users\\Damian\\Pictures\\output\\output_at_iteration_49.png\n",
            "Iteration 49 completed in 2s\n",
            "Start of iteration 50\n",
            "Current loss value: 5788822500.0\n",
            "Image saved as C:\\Users\\Damian\\Pictures\\output\\output_at_iteration_50.png\n",
            "Iteration 50 completed in 2s\n",
            "Start of iteration 51\n",
            "Current loss value: 5731765000.0\n",
            "Image saved as C:\\Users\\Damian\\Pictures\\output\\output_at_iteration_51.png\n",
            "Iteration 51 completed in 2s\n",
            "Start of iteration 52\n",
            "Current loss value: 5685330400.0\n",
            "Image saved as C:\\Users\\Damian\\Pictures\\output\\output_at_iteration_52.png\n",
            "Iteration 52 completed in 2s\n",
            "Start of iteration 53\n",
            "Current loss value: 5633727000.0\n",
            "Image saved as C:\\Users\\Damian\\Pictures\\output\\output_at_iteration_53.png\n",
            "Iteration 53 completed in 2s\n",
            "Start of iteration 54\n",
            "Current loss value: 5590070300.0\n",
            "Image saved as C:\\Users\\Damian\\Pictures\\output\\output_at_iteration_54.png\n",
            "Iteration 54 completed in 3s\n",
            "Start of iteration 55\n",
            "Current loss value: 5556838000.0\n",
            "Image saved as C:\\Users\\Damian\\Pictures\\output\\output_at_iteration_55.png\n",
            "Iteration 55 completed in 2s\n",
            "Start of iteration 56\n",
            "Current loss value: 5521598500.0\n",
            "Image saved as C:\\Users\\Damian\\Pictures\\output\\output_at_iteration_56.png\n",
            "Iteration 56 completed in 2s\n",
            "Start of iteration 57\n",
            "Current loss value: 5491294000.0\n",
            "Image saved as C:\\Users\\Damian\\Pictures\\output\\output_at_iteration_57.png\n",
            "Iteration 57 completed in 2s\n",
            "Start of iteration 58\n",
            "Current loss value: 5455047700.0\n",
            "Image saved as C:\\Users\\Damian\\Pictures\\output\\output_at_iteration_58.png\n",
            "Iteration 58 completed in 2s\n",
            "Start of iteration 59\n",
            "Current loss value: 5424244700.0\n",
            "Image saved as C:\\Users\\Damian\\Pictures\\output\\output_at_iteration_59.png\n",
            "Iteration 59 completed in 2s\n",
            "Start of iteration 60\n",
            "Current loss value: 5389061600.0\n",
            "Image saved as C:\\Users\\Damian\\Pictures\\output\\output_at_iteration_60.png\n",
            "Iteration 60 completed in 2s\n",
            "Start of iteration 61\n",
            "Current loss value: 5361840000.0\n",
            "Image saved as C:\\Users\\Damian\\Pictures\\output\\output_at_iteration_61.png\n",
            "Iteration 61 completed in 2s\n",
            "Start of iteration 62\n",
            "Current loss value: 5317194000.0\n",
            "Image saved as C:\\Users\\Damian\\Pictures\\output\\output_at_iteration_62.png\n",
            "Iteration 62 completed in 2s\n",
            "Start of iteration 63\n",
            "Current loss value: 5280440000.0\n",
            "Image saved as C:\\Users\\Damian\\Pictures\\output\\output_at_iteration_63.png\n",
            "Iteration 63 completed in 2s\n",
            "Start of iteration 64\n",
            "Current loss value: 5250052600.0\n",
            "Image saved as C:\\Users\\Damian\\Pictures\\output\\output_at_iteration_64.png\n",
            "Iteration 64 completed in 3s\n",
            "Start of iteration 65\n",
            "Current loss value: 5221700000.0\n",
            "Image saved as C:\\Users\\Damian\\Pictures\\output\\output_at_iteration_65.png\n",
            "Iteration 65 completed in 2s\n",
            "Start of iteration 66\n",
            "Current loss value: 5191260700.0\n",
            "Image saved as C:\\Users\\Damian\\Pictures\\output\\output_at_iteration_66.png\n",
            "Iteration 66 completed in 2s\n",
            "Start of iteration 67\n",
            "Current loss value: 5155307000.0\n",
            "Image saved as C:\\Users\\Damian\\Pictures\\output\\output_at_iteration_67.png\n",
            "Iteration 67 completed in 2s\n",
            "Start of iteration 68\n",
            "Current loss value: 5114735600.0\n",
            "Image saved as C:\\Users\\Damian\\Pictures\\output\\output_at_iteration_68.png\n",
            "Iteration 68 completed in 2s\n",
            "Start of iteration 69\n",
            "Current loss value: 5075094500.0\n",
            "Image saved as C:\\Users\\Damian\\Pictures\\output\\output_at_iteration_69.png\n",
            "Iteration 69 completed in 2s\n",
            "Start of iteration 70\n",
            "Current loss value: 5045848600.0\n",
            "Image saved as C:\\Users\\Damian\\Pictures\\output\\output_at_iteration_70.png\n",
            "Iteration 70 completed in 2s\n",
            "Start of iteration 71\n",
            "Current loss value: 5010673700.0\n",
            "Image saved as C:\\Users\\Damian\\Pictures\\output\\output_at_iteration_71.png\n",
            "Iteration 71 completed in 3s\n",
            "Start of iteration 72\n",
            "Current loss value: 4983063600.0\n",
            "Image saved as C:\\Users\\Damian\\Pictures\\output\\output_at_iteration_72.png\n",
            "Iteration 72 completed in 2s\n",
            "Start of iteration 73\n",
            "Current loss value: 4957945300.0\n",
            "Image saved as C:\\Users\\Damian\\Pictures\\output\\output_at_iteration_73.png\n",
            "Iteration 73 completed in 2s\n",
            "Start of iteration 74\n",
            "Current loss value: 4933622000.0\n",
            "Image saved as C:\\Users\\Damian\\Pictures\\output\\output_at_iteration_74.png\n",
            "Iteration 74 completed in 2s\n",
            "Start of iteration 75\n",
            "Current loss value: 4911922000.0\n",
            "Image saved as C:\\Users\\Damian\\Pictures\\output\\output_at_iteration_75.png\n",
            "Iteration 75 completed in 2s\n",
            "Start of iteration 76\n",
            "Current loss value: 4885169000.0\n",
            "Image saved as C:\\Users\\Damian\\Pictures\\output\\output_at_iteration_76.png\n",
            "Iteration 76 completed in 2s\n",
            "Start of iteration 77\n",
            "Current loss value: 4861669000.0\n",
            "Image saved as C:\\Users\\Damian\\Pictures\\output\\output_at_iteration_77.png\n",
            "Iteration 77 completed in 2s\n",
            "Start of iteration 78\n",
            "Current loss value: 4841648000.0\n",
            "Image saved as C:\\Users\\Damian\\Pictures\\output\\output_at_iteration_78.png\n",
            "Iteration 78 completed in 2s\n",
            "Start of iteration 79\n",
            "Current loss value: 4819376600.0\n",
            "Image saved as C:\\Users\\Damian\\Pictures\\output\\output_at_iteration_79.png\n",
            "Iteration 79 completed in 2s\n",
            "Start of iteration 80\n",
            "Current loss value: 4801002000.0\n",
            "Image saved as C:\\Users\\Damian\\Pictures\\output\\output_at_iteration_80.png\n",
            "Iteration 80 completed in 2s\n",
            "Start of iteration 81\n",
            "Current loss value: 4780448300.0\n",
            "Image saved as C:\\Users\\Damian\\Pictures\\output\\output_at_iteration_81.png\n",
            "Iteration 81 completed in 2s\n",
            "Start of iteration 82\n",
            "Current loss value: 4763951000.0\n",
            "Image saved as C:\\Users\\Damian\\Pictures\\output\\output_at_iteration_82.png\n",
            "Iteration 82 completed in 2s\n",
            "Start of iteration 83\n",
            "Current loss value: 4746313700.0\n",
            "Image saved as C:\\Users\\Damian\\Pictures\\output\\output_at_iteration_83.png\n",
            "Iteration 83 completed in 2s\n",
            "Start of iteration 84\n",
            "Current loss value: 4724001000.0\n",
            "Image saved as C:\\Users\\Damian\\Pictures\\output\\output_at_iteration_84.png\n",
            "Iteration 84 completed in 2s\n",
            "Start of iteration 85\n",
            "Current loss value: 4703345700.0\n",
            "Image saved as C:\\Users\\Damian\\Pictures\\output\\output_at_iteration_85.png\n",
            "Iteration 85 completed in 2s\n",
            "Start of iteration 86\n",
            "Current loss value: 4683460000.0\n",
            "Image saved as C:\\Users\\Damian\\Pictures\\output\\output_at_iteration_86.png\n",
            "Iteration 86 completed in 2s\n",
            "Start of iteration 87\n",
            "Current loss value: 4664531000.0\n",
            "Image saved as C:\\Users\\Damian\\Pictures\\output\\output_at_iteration_87.png\n",
            "Iteration 87 completed in 3s\n",
            "Start of iteration 88\n",
            "Current loss value: 4637914000.0\n",
            "Image saved as C:\\Users\\Damian\\Pictures\\output\\output_at_iteration_88.png\n",
            "Iteration 88 completed in 2s\n",
            "Start of iteration 89\n",
            "Current loss value: 4612737000.0\n",
            "Image saved as C:\\Users\\Damian\\Pictures\\output\\output_at_iteration_89.png\n",
            "Iteration 89 completed in 3s\n",
            "Start of iteration 90\n",
            "Current loss value: 4598132700.0\n",
            "Image saved as C:\\Users\\Damian\\Pictures\\output\\output_at_iteration_90.png\n",
            "Iteration 90 completed in 2s\n",
            "Start of iteration 91\n",
            "Current loss value: 4583297000.0\n",
            "Image saved as C:\\Users\\Damian\\Pictures\\output\\output_at_iteration_91.png\n",
            "Iteration 91 completed in 2s\n",
            "Start of iteration 92\n",
            "Current loss value: 4567593500.0\n",
            "Image saved as C:\\Users\\Damian\\Pictures\\output\\output_at_iteration_92.png\n",
            "Iteration 92 completed in 2s\n",
            "Start of iteration 93\n",
            "Current loss value: 4552966700.0\n",
            "Image saved as C:\\Users\\Damian\\Pictures\\output\\output_at_iteration_93.png\n",
            "Iteration 93 completed in 2s\n",
            "Start of iteration 94\n",
            "Current loss value: 4540252000.0\n",
            "Image saved as C:\\Users\\Damian\\Pictures\\output\\output_at_iteration_94.png\n",
            "Iteration 94 completed in 2s\n",
            "Start of iteration 95\n",
            "Current loss value: 4521795600.0\n",
            "Image saved as C:\\Users\\Damian\\Pictures\\output\\output_at_iteration_95.png\n",
            "Iteration 95 completed in 2s\n",
            "Start of iteration 96\n",
            "Current loss value: 4505751000.0\n",
            "Image saved as C:\\Users\\Damian\\Pictures\\output\\output_at_iteration_96.png\n",
            "Iteration 96 completed in 2s\n",
            "Start of iteration 97\n",
            "Current loss value: 4489586700.0\n",
            "Image saved as C:\\Users\\Damian\\Pictures\\output\\output_at_iteration_97.png\n",
            "Iteration 97 completed in 2s\n",
            "Start of iteration 98\n",
            "Current loss value: 4474017000.0\n",
            "Image saved as C:\\Users\\Damian\\Pictures\\output\\output_at_iteration_98.png\n",
            "Iteration 98 completed in 2s\n",
            "Start of iteration 99\n",
            "Current loss value: 4459783700.0\n",
            "Image saved as C:\\Users\\Damian\\Pictures\\output\\output_at_iteration_99.png\n",
            "Iteration 99 completed in 2s\n"
          ],
          "name": "stdout"
        }
      ]
    },
    {
      "cell_type": "code",
      "metadata": {
        "id": "5DXjV6CeLbBp",
        "colab_type": "code",
        "colab": {},
        "outputId": "d24a190d-3037-48f4-8949-8bab9726e6bc"
      },
      "source": [
        "x = preprocess_image(base_image_path)\n",
        "x\n"
      ],
      "execution_count": 0,
      "outputs": [
        {
          "output_type": "execute_result",
          "data": {
            "text/plain": [
              "array([[[[ -15.939003 ,    6.2210007,   33.32     ],\n",
              "         [  10.060997 ,   22.221    ,   47.32     ],\n",
              "         [   5.060997 ,   14.221001 ,   35.32     ],\n",
              "         ...,\n",
              "         [  20.060997 ,   46.221    ,   67.32     ],\n",
              "         [  21.060997 ,   47.221    ,   68.32     ],\n",
              "         [  23.060997 ,   47.221    ,   68.32     ]],\n",
              "\n",
              "        [[   8.060997 ,   23.221    ,   47.32     ],\n",
              "         [   5.060997 ,   20.221    ,   44.32     ],\n",
              "         [   9.060997 ,   20.221    ,   43.32     ],\n",
              "         ...,\n",
              "         [  20.060997 ,   45.221    ,   68.32     ],\n",
              "         [  21.060997 ,   46.221    ,   69.32     ],\n",
              "         [  20.060997 ,   46.221    ,   67.32     ]],\n",
              "\n",
              "        [[  -1.939003 ,    9.221001 ,   30.32     ],\n",
              "         [  -3.939003 ,    9.221001 ,   32.32     ],\n",
              "         [   4.060997 ,   15.221001 ,   36.32     ],\n",
              "         ...,\n",
              "         [  20.060997 ,   45.221    ,   68.32     ],\n",
              "         [  21.060997 ,   46.221    ,   69.32     ],\n",
              "         [  18.060997 ,   45.221    ,   66.32     ]],\n",
              "\n",
              "        ...,\n",
              "\n",
              "        [[ -80.939    ,  -87.779    ,  -99.68     ],\n",
              "         [ -86.939    ,  -93.779    , -105.68     ],\n",
              "         [ -85.939    ,  -92.779    , -104.68     ],\n",
              "         ...,\n",
              "         [ -83.939    ,  -89.779    ,  -99.68     ],\n",
              "         [ -83.939    ,  -89.779    , -101.68     ],\n",
              "         [ -81.939    ,  -87.779    ,  -99.68     ]],\n",
              "\n",
              "        [[ -81.939    ,  -88.779    , -100.68     ],\n",
              "         [ -88.939    ,  -95.779    , -107.68     ],\n",
              "         [ -87.939    ,  -94.779    , -106.68     ],\n",
              "         ...,\n",
              "         [ -85.939    ,  -91.779    , -101.68     ],\n",
              "         [ -85.939    ,  -91.779    , -103.68     ],\n",
              "         [ -82.939    ,  -88.779    , -100.68     ]],\n",
              "\n",
              "        [[ -83.939    ,  -90.779    , -102.68     ],\n",
              "         [ -85.939    ,  -92.779    , -104.68     ],\n",
              "         [ -80.939    ,  -87.779    ,  -99.68     ],\n",
              "         ...,\n",
              "         [ -82.939    ,  -88.779    ,  -98.68     ],\n",
              "         [ -83.939    ,  -89.779    , -101.68     ],\n",
              "         [ -80.939    ,  -86.779    ,  -98.68     ]]]], dtype=float32)"
            ]
          },
          "metadata": {
            "tags": []
          },
          "execution_count": 371
        }
      ]
    },
    {
      "cell_type": "code",
      "metadata": {
        "id": "1EyPnz9NLbBr",
        "colab_type": "code",
        "colab": {}
      },
      "source": [
        " \n",
        " "
      ],
      "execution_count": 0,
      "outputs": []
    },
    {
      "cell_type": "code",
      "metadata": {
        "id": "aI-irvdVLbBs",
        "colab_type": "code",
        "colab": {},
        "outputId": "bbee10a2-a478-4683-8054-d8a9a9551a6e"
      },
      "source": [
        "base_image_path\n"
      ],
      "execution_count": 0,
      "outputs": [
        {
          "output_type": "execute_result",
          "data": {
            "text/plain": [
              "WindowsPath('C:/Users/Damian/Pictures/cabaña.jpg')"
            ]
          },
          "metadata": {
            "tags": []
          },
          "execution_count": 372
        }
      ]
    },
    {
      "cell_type": "code",
      "metadata": {
        "id": "k4-JevD1LbBv",
        "colab_type": "code",
        "colab": {},
        "outputId": "d55ddeb1-a6a2-4092-975e-c159cddce39e"
      },
      "source": [
        "x = preprocess_image(base_image_path)\n",
        "x"
      ],
      "execution_count": 0,
      "outputs": [
        {
          "output_type": "execute_result",
          "data": {
            "text/plain": [
              "array([[[[ -15.939003 ,    6.2210007,   33.32     ],\n",
              "         [  10.060997 ,   22.221    ,   47.32     ],\n",
              "         [   5.060997 ,   14.221001 ,   35.32     ],\n",
              "         ...,\n",
              "         [  20.060997 ,   46.221    ,   67.32     ],\n",
              "         [  21.060997 ,   47.221    ,   68.32     ],\n",
              "         [  23.060997 ,   47.221    ,   68.32     ]],\n",
              "\n",
              "        [[   8.060997 ,   23.221    ,   47.32     ],\n",
              "         [   5.060997 ,   20.221    ,   44.32     ],\n",
              "         [   9.060997 ,   20.221    ,   43.32     ],\n",
              "         ...,\n",
              "         [  20.060997 ,   45.221    ,   68.32     ],\n",
              "         [  21.060997 ,   46.221    ,   69.32     ],\n",
              "         [  20.060997 ,   46.221    ,   67.32     ]],\n",
              "\n",
              "        [[  -1.939003 ,    9.221001 ,   30.32     ],\n",
              "         [  -3.939003 ,    9.221001 ,   32.32     ],\n",
              "         [   4.060997 ,   15.221001 ,   36.32     ],\n",
              "         ...,\n",
              "         [  20.060997 ,   45.221    ,   68.32     ],\n",
              "         [  21.060997 ,   46.221    ,   69.32     ],\n",
              "         [  18.060997 ,   45.221    ,   66.32     ]],\n",
              "\n",
              "        ...,\n",
              "\n",
              "        [[ -80.939    ,  -87.779    ,  -99.68     ],\n",
              "         [ -86.939    ,  -93.779    , -105.68     ],\n",
              "         [ -85.939    ,  -92.779    , -104.68     ],\n",
              "         ...,\n",
              "         [ -83.939    ,  -89.779    ,  -99.68     ],\n",
              "         [ -83.939    ,  -89.779    , -101.68     ],\n",
              "         [ -81.939    ,  -87.779    ,  -99.68     ]],\n",
              "\n",
              "        [[ -81.939    ,  -88.779    , -100.68     ],\n",
              "         [ -88.939    ,  -95.779    , -107.68     ],\n",
              "         [ -87.939    ,  -94.779    , -106.68     ],\n",
              "         ...,\n",
              "         [ -85.939    ,  -91.779    , -101.68     ],\n",
              "         [ -85.939    ,  -91.779    , -103.68     ],\n",
              "         [ -82.939    ,  -88.779    , -100.68     ]],\n",
              "\n",
              "        [[ -83.939    ,  -90.779    , -102.68     ],\n",
              "         [ -85.939    ,  -92.779    , -104.68     ],\n",
              "         [ -80.939    ,  -87.779    ,  -99.68     ],\n",
              "         ...,\n",
              "         [ -82.939    ,  -88.779    ,  -98.68     ],\n",
              "         [ -83.939    ,  -89.779    , -101.68     ],\n",
              "         [ -80.939    ,  -86.779    ,  -98.68     ]]]], dtype=float32)"
            ]
          },
          "metadata": {
            "tags": []
          },
          "execution_count": 373
        }
      ]
    },
    {
      "cell_type": "markdown",
      "metadata": {
        "colab_type": "text",
        "id": "SkiJtofbWWy1"
      },
      "source": [
        "# 8) Generar imágenes para distintas combinaciones de pesos de las losses. Explicar las diferencias. (Adjuntar las imágenes generadas como archivos separados.)\n",
        "\n",
        "Respuesta:\n",
        "Total_variation_weight:\n",
        "Este peso nos permite balancear entre el contenido y el estilo de la imagen generada, si es muy algo en comparación a los otros pesos se pierde calidad en la imagen hay más ruido en la imagen ya   los colores de los objetos vecinos en la imagen se mezclan y la imagen es de baja calidad. Pero en una proporción adecuada ayuda a ver mejor calidad la imagen.\n",
        " \n",
        "style_weight : Sí aumentó el peso del estilo se refleja más la imagen de estilo que la de contenido.\n",
        "Content_weight:  Si aumento el peso de contenido la imagen se parece más a la original.\n",
        "Si todos los pesos tiene cero es igual a la imagen de contenido.\n",
        "\n",
        "las imagines se  adjunta en el zip \"Respuesta 8\" dentro del git.\n",
        "\n",
        "# 9) Cambiar las imágenes de contenido y estilo por unas elegidas por usted. Adjuntar el resultado.\n",
        "\n",
        "Respuesta:\n",
        "las imagines se  adjunta en el zip \"Respuesta 9\" dentro del git.\n"
      ]
    },
    {
      "cell_type": "code",
      "metadata": {
        "id": "pV6-bXuVLbBy",
        "colab_type": "code",
        "colab": {}
      },
      "source": [
        ""
      ],
      "execution_count": 0,
      "outputs": []
    },
    {
      "cell_type": "code",
      "metadata": {
        "id": "VkhmMvWRLbB0",
        "colab_type": "code",
        "colab": {}
      },
      "source": [
        ""
      ],
      "execution_count": 0,
      "outputs": []
    }
  ]
}